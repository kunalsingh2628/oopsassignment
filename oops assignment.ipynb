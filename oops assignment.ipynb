{
 "cells": [
  {
   "cell_type": "code",
   "execution_count": 2,
   "id": "9f5b224c-deb4-4867-b851-d3591e658c7f",
   "metadata": {},
   "outputs": [],
   "source": [
    "##Q-1"
   ]
  },
  {
   "cell_type": "code",
   "execution_count": null,
   "id": "5b5a9286-2ba2-4902-af05-882ad7e0e658",
   "metadata": {},
   "outputs": [],
   "source": [
    "In object-oriented programming (OOP), a class is a blueprint or template that defines the characteristics and behavior of a particular type of object. It serves as a blueprint for creating instances of objects, which are known as objects or instances of the class\n",
    ". A class defines the properties (attributes) and behaviors (methods) that objects of that class possess."
   ]
  },
  {
   "cell_type": "code",
   "execution_count": 4,
   "id": "5c9ab6a1-f07c-468c-989a-9ddf25e9282e",
   "metadata": {},
   "outputs": [
    {
     "name": "stdout",
     "output_type": "stream",
     "text": [
      "Red\n",
      "Toyota\n",
      "The car is accelerating.\n",
      "The car is braking.\n",
      "The car is changing gears to 3\n"
     ]
    }
   ],
   "source": [
    "class Car:\n",
    "    def __init__(self, color, brand, model, year):\n",
    "        self.color = color\n",
    "        self.brand = brand\n",
    "        self.model = model\n",
    "        self.year = year\n",
    "\n",
    "    def accelerate(self):\n",
    "        print(\"The car is accelerating.\")\n",
    "\n",
    "    def brake(self):\n",
    "        print(\"The car is braking.\")\n",
    "\n",
    "    def change_gears(self, gear):\n",
    "        print(\"The car is changing gears to\", gear)\n",
    "\n",
    "car1 = Car(\"Red\", \"Toyota\", \"Corolla\", 2022)\n",
    "car2 = Car(\"Blue\", \"Honda\", \"Civic\", 2021)\n",
    "print(car1.color) \n",
    "print(car1.brand)   \n",
    "\n",
    "car2.accelerate()   \n",
    "car2.brake()      \n",
    "car2.change_gears(3)  \n"
   ]
  },
  {
   "cell_type": "code",
   "execution_count": null,
   "id": "b502820d-ec19-41ed-939d-3c03915a6116",
   "metadata": {},
   "outputs": [],
   "source": [
    "##Q-2"
   ]
  },
  {
   "cell_type": "code",
   "execution_count": null,
   "id": "7bb0d000-99ab-450c-a4ff-c41a780c5dbc",
   "metadata": {},
   "outputs": [],
   "source": [
    "1)encapsulation\n",
    "2)inheritance\n",
    "3)abstraction\n",
    "4)polymorphism"
   ]
  },
  {
   "cell_type": "code",
   "execution_count": 5,
   "id": "52cecd34-c085-4e1d-a73f-aab8541aaad1",
   "metadata": {},
   "outputs": [],
   "source": [
    "##Q-3"
   ]
  },
  {
   "cell_type": "code",
   "execution_count": null,
   "id": "45994631-1fdd-4788-9fbf-96ee49907185",
   "metadata": {},
   "outputs": [],
   "source": [
    "In object-oriented programming, the __init__() function is a special method used in classes to initialize the attributes or properties of an object when it is created. It is also known as the constructor method because it gets called automatically when an object of a class is instantiated.\n",
    "\n",
    "The primary purpose of the __init__() function is to set the initial state of the object by assigning values to its attributes. It allows you to define and initialize the object's properties within the class definition.\n",
    "\n"
   ]
  },
  {
   "cell_type": "code",
   "execution_count": 7,
   "id": "e2cfddee-a393-4ad2-9423-c7ee99048780",
   "metadata": {},
   "outputs": [
    {
     "name": "stdout",
     "output_type": "stream",
     "text": [
      "Alice\n",
      "25\n",
      "Hello, my name is Alice and I am 25 years old.\n"
     ]
    }
   ],
   "source": [
    "class Person:\n",
    "    def __init__(self, name, age):\n",
    "        self.name = name\n",
    "        self.age = age\n",
    "\n",
    "    def introduce(self):\n",
    "        print(\"Hello, my name is\", self.name, \"and I am\", self.age, \"years old.\")\n",
    "\n",
    "\n",
    "person1 = Person(\"Alice\", 25)\n",
    "\n",
    "print(person1.name)   \n",
    "print(person1.age)    \n",
    "\n",
    "\n",
    "person1.introduce()   \n"
   ]
  },
  {
   "cell_type": "code",
   "execution_count": null,
   "id": "82c5a57f-abac-491c-aa1d-6ff9cfc98d2c",
   "metadata": {},
   "outputs": [],
   "source": [
    "##Q-4"
   ]
  },
  {
   "cell_type": "code",
   "execution_count": null,
   "id": "84473ba3-3a40-43a2-ae46-eca032ffb16f",
   "metadata": {},
   "outputs": [],
   "source": [
    "Accessing instance variables: With \"self,\" you can access and modify the instance variables of an object. Each object created from a class has its own set of instance variables, and \"self\" provides a reference to these variables within the class methods.\n",
    "\n",
    "Calling object methods: Using \"self,\" you can call other methods defined within the class. This allows objects to perform operations on themselves, making it easier to organize and encapsulate related behaviors.\n",
    "\n",
    "Differentiating between local and instance variables: In some programming languages, such as Python, instance variables are typically accessed using \"self\" to distinguish them from local variables defined within a method. \"self\" helps clarify the scope and origin of the variables being accessed.\n",
    "\n",
    "Enabling object-oriented features: \"self\" is crucial for implementing key OOP concepts like inheritance and polymorphism. Inheritance allows objects to inherit properties and behaviors from a parent class, and \"self\" helps differentiate between inherited members and those specific to the current object."
   ]
  },
  {
   "cell_type": "code",
   "execution_count": null,
   "id": "15c25d9d-f463-4416-b364-1a27a47b9a83",
   "metadata": {},
   "outputs": [],
   "source": [
    "##Q-5"
   ]
  },
  {
   "cell_type": "code",
   "execution_count": null,
   "id": "e9b9a0a0-cdd8-4d53-9e04-42260a6174a6",
   "metadata": {},
   "outputs": [],
   "source": [
    "There are several types of inheritance, including:\n",
    "\n",
    "Single Inheritance: Single inheritance refers to a scenario where a class inherits properties and methods from a single parent class. In this type of inheritance, a child class extends the functionality of the parent class. For example:"
   ]
  },
  {
   "cell_type": "code",
   "execution_count": 10,
   "id": "03a0879f-6340-4c39-a5d2-a856a3f294ac",
   "metadata": {},
   "outputs": [],
   "source": [
    "class Animal:\n",
    "    def breathe(self):\n",
    "        print(\"Breathing...\")\n",
    "\n",
    "class Dog(Animal):\n",
    "    def bark(self):\n",
    "        print(\"Barking...\")\n"
   ]
  },
  {
   "cell_type": "code",
   "execution_count": null,
   "id": "056b969a-948e-4db0-8670-04d799428f2e",
   "metadata": {},
   "outputs": [],
   "source": [
    "Multiple Inheritance: Multiple inheritance allows a class to inherit properties and methods from multiple parent classes.\n",
    "This means that a class can derive features from more than one base class. For example:"
   ]
  }
 ],
 "metadata": {
  "kernelspec": {
   "display_name": "Python 3 (ipykernel)",
   "language": "python",
   "name": "python3"
  },
  "language_info": {
   "codemirror_mode": {
    "name": "ipython",
    "version": 3
   },
   "file_extension": ".py",
   "mimetype": "text/x-python",
   "name": "python",
   "nbconvert_exporter": "python",
   "pygments_lexer": "ipython3",
   "version": "3.10.8"
  }
 },
 "nbformat": 4,
 "nbformat_minor": 5
}
